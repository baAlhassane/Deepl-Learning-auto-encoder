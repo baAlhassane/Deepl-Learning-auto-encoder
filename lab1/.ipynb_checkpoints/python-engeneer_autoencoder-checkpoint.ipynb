{
 "cells": [
  {
   "cell_type": "code",
   "execution_count": 1,
   "metadata": {},
   "outputs": [],
   "source": [
    "import torch\n",
    "import torch.nn as nn\n",
    "import torch.optim as optim\n",
    "import matplotlib.pyplot as plt\n",
    "from torchvision import datasets, transforms\n",
    "\n",
    "# transform=transforms.ToTensor()\n",
    "# mnist_data=datasets.MNIST(root=\"./data\",train=True,download=True,transform=transform)\n",
    "# data_loader=torch.utils.data.DataLoader(dataset=mnist_data,batch_size=64,shuffle=True)"
   ]
  },
  {
   "cell_type": "code",
   "execution_count": 2,
   "metadata": {},
   "outputs": [],
   "source": [
    "transform=transforms.ToTensor()\n",
    "mnist_data=datasets.MNIST(root=\"./data\",train=True,download=True,transform=transform)\n",
    "data_loader=torch.utils.data.DataLoader(dataset=mnist_data,batch_size=64,shuffle=True)"
   ]
  },
  {
   "cell_type": "code",
   "execution_count": 3,
   "metadata": {},
   "outputs": [],
   "source": [
    "#inspecte the firt batch\n",
    "dataiter=iter(data_loader)"
   ]
  },
  {
   "cell_type": "code",
   "execution_count": 4,
   "metadata": {},
   "outputs": [
    {
     "data": {
      "text/plain": [
       "torch.Size([64, 784])"
      ]
     },
     "execution_count": 4,
     "metadata": {},
     "output_type": "execute_result"
    }
   ],
   "source": [
    "images, label=dataiter.next()\n",
    "images,label\n",
    "images=images.reshape(-1,28*28)\n",
    "images.shape"
   ]
  },
  {
   "cell_type": "code",
   "execution_count": 5,
   "metadata": {},
   "outputs": [
    {
     "data": {
      "text/plain": [
       "(tensor(0.), tensor(1.))"
      ]
     },
     "execution_count": 5,
     "metadata": {},
     "output_type": "execute_result"
    }
   ],
   "source": [
    "valmin=torch.min(images)\n",
    "valmax=torch.max(images)\n",
    "valmin,valmax"
   ]
  },
  {
   "cell_type": "code",
   "execution_count": 6,
   "metadata": {},
   "outputs": [],
   "source": [
    "class Autoencoder(nn.Module):\n",
    "    def __init__(self):\n",
    "        #N,784 N=batch_size\n",
    "        super().__init__()\n",
    "        self.encoder=nn.Sequential(\n",
    "            nn.Linear(28*28,128),#reduce size :N,784->N,128\n",
    "            nn.ReLU(),\n",
    "            nn.Linear(128,64),\n",
    "            nn.ReLU(),\n",
    "            nn.Linear(64,12),\n",
    "            nn.ReLU(),\n",
    "            nn.Linear(12,3),#size here is N by 3\n",
    "            #here we don't need the activation fonction\n",
    "        )\n",
    "        self.decoder=nn.Sequential(\n",
    "            nn.Linear(3,12),\n",
    "            nn.ReLU(),\n",
    "            nn.Linear(12,64),\n",
    "            nn.ReLU(),\n",
    "            nn.Linear(64,128),\n",
    "            nn.ReLU(),\n",
    "            nn.Linear(128,28*28),\n",
    "            nn.Sigmoid()#because value are beetween 0 and 1\n",
    "            #if valuer min and max are in range [-1,+1] we will chose thn\n",
    "            \n",
    "        )\n",
    "        \n",
    "        \n",
    "        \n",
    "        \n",
    "    def forward(self,x):\n",
    "        encoded=self.encoder(x)\n",
    "        decoded=self.decoder(encoded)\n",
    "        return decoded"
   ]
  },
  {
   "cell_type": "code",
   "execution_count": 7,
   "metadata": {},
   "outputs": [],
   "source": [
    "#the best way to struct a  with autoencoder is to use sequencile  "
   ]
  },
  {
   "cell_type": "code",
   "execution_count": 8,
   "metadata": {},
   "outputs": [],
   "source": [
    "#the model \n",
    "model=Autoencoder()\n",
    "criterion=nn.MSELoss()\n",
    "optimizer=torch.optim.Adam(model.parameters(),lr=1e-3,weight_decay=1e-5)\n",
    "x=torch.rand(784)"
   ]
  },
  {
   "cell_type": "code",
   "execution_count": null,
   "metadata": {},
   "outputs": [],
   "source": []
  },
  {
   "cell_type": "code",
   "execution_count": null,
   "metadata": {},
   "outputs": [],
   "source": []
  },
  {
   "cell_type": "code",
   "execution_count": 9,
   "metadata": {},
   "outputs": [
    {
     "name": "stdout",
     "output_type": "stream",
     "text": [
      "Epoch:1,Loss:0.1209\n",
      "Epoch:2,Loss:0.1175\n",
      "Epoch:3,Loss:0.1180\n",
      "Epoch:4,Loss:0.1298\n",
      "Epoch:5,Loss:0.1279\n",
      "Epoch:6,Loss:0.1298\n",
      "Epoch:7,Loss:0.1178\n",
      "Epoch:8,Loss:0.1227\n",
      "Epoch:9,Loss:0.1273\n",
      "Epoch:10,Loss:0.1178\n"
     ]
    }
   ],
   "source": [
    "#the training \n",
    "num_epochs=10\n",
    "outputs=[]\n",
    "for epoch in range(num_epochs):\n",
    "    for (img,_) in data_loader:\n",
    "        img=img.reshape(-1,28*28)\n",
    "        recon=model(img)\n",
    "        loss=criterion(recon,img)#loss entre image autoencoder et image original\n",
    "        optimizer.zero_grad\n",
    "        loss.backward()\n",
    "        optimizer.step()\n",
    "    print(f'Epoch:{epoch+1},Loss:{loss.item():.4f}' )\n",
    "    outputs.append((epoch,img,recon))\n",
    "        "
   ]
  },
  {
   "cell_type": "code",
   "execution_count": 10,
   "metadata": {},
   "outputs": [],
   "source": [
    "#suite video 29min"
   ]
  },
  {
   "cell_type": "code",
   "execution_count": null,
   "metadata": {},
   "outputs": [],
   "source": []
  },
  {
   "cell_type": "code",
   "execution_count": null,
   "metadata": {},
   "outputs": [],
   "source": []
  },
  {
   "cell_type": "code",
   "execution_count": null,
   "metadata": {},
   "outputs": [],
   "source": []
  }
 ],
 "metadata": {
  "kernelspec": {
   "display_name": "Python 3",
   "language": "python",
   "name": "python3"
  },
  "language_info": {
   "codemirror_mode": {
    "name": "ipython",
    "version": 3
   },
   "file_extension": ".py",
   "mimetype": "text/x-python",
   "name": "python",
   "nbconvert_exporter": "python",
   "pygments_lexer": "ipython3",
   "version": "3.8.3"
  }
 },
 "nbformat": 4,
 "nbformat_minor": 4
}
